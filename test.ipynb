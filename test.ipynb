{
 "cells": [
  {
   "cell_type": "code",
   "execution_count": 1,
   "id": "9f8016a7",
   "metadata": {},
   "outputs": [],
   "source": [
    "import pandas as pd\n",
    "# import tensorflow as tf\n",
    "from packages import wrappers, models, ta"
   ]
  },
  {
   "cell_type": "code",
   "execution_count": 2,
   "id": "56a96ded",
   "metadata": {},
   "outputs": [],
   "source": [
    "btcusd_df = wrappers.get_df_from_cryptowatch()"
   ]
  },
  {
   "cell_type": "code",
   "execution_count": 3,
   "id": "cd5f9fb6",
   "metadata": {},
   "outputs": [
    {
     "data": {
      "text/html": [
       "<div>\n",
       "<style scoped>\n",
       "    .dataframe tbody tr th:only-of-type {\n",
       "        vertical-align: middle;\n",
       "    }\n",
       "\n",
       "    .dataframe tbody tr th {\n",
       "        vertical-align: top;\n",
       "    }\n",
       "\n",
       "    .dataframe thead th {\n",
       "        text-align: right;\n",
       "    }\n",
       "</style>\n",
       "<table border=\"1\" class=\"dataframe\">\n",
       "  <thead>\n",
       "    <tr style=\"text-align: right;\">\n",
       "      <th></th>\n",
       "      <th>Target</th>\n",
       "      <th>Close</th>\n",
       "      <th>Volume</th>\n",
       "      <th>ATR_14</th>\n",
       "      <th>OBV</th>\n",
       "    </tr>\n",
       "    <tr>\n",
       "      <th>Date</th>\n",
       "      <th></th>\n",
       "      <th></th>\n",
       "      <th></th>\n",
       "      <th></th>\n",
       "      <th></th>\n",
       "    </tr>\n",
       "  </thead>\n",
       "  <tbody>\n",
       "    <tr>\n",
       "      <th>2020-06-15</th>\n",
       "      <td>9328.4</td>\n",
       "      <td>9330.4</td>\n",
       "      <td>2.508402e+07</td>\n",
       "      <td>425.260601</td>\n",
       "      <td>495820.391088</td>\n",
       "    </tr>\n",
       "    <tr>\n",
       "      <th>2020-06-16</th>\n",
       "      <td>9425.3</td>\n",
       "      <td>9425.3</td>\n",
       "      <td>9.054159e+07</td>\n",
       "      <td>437.377701</td>\n",
       "      <td>505644.285371</td>\n",
       "    </tr>\n",
       "    <tr>\n",
       "      <th>2020-06-17</th>\n",
       "      <td>9527.5</td>\n",
       "      <td>9528.5</td>\n",
       "      <td>5.282200e+07</td>\n",
       "      <td>420.993580</td>\n",
       "      <td>511207.665854</td>\n",
       "    </tr>\n",
       "    <tr>\n",
       "      <th>2020-06-18</th>\n",
       "      <td>9453.1</td>\n",
       "      <td>9453.1</td>\n",
       "      <td>5.074686e+07</td>\n",
       "      <td>414.022610</td>\n",
       "      <td>505815.252863</td>\n",
       "    </tr>\n",
       "    <tr>\n",
       "      <th>2020-06-19</th>\n",
       "      <td>9381.5</td>\n",
       "      <td>9381.5</td>\n",
       "      <td>3.429032e+07</td>\n",
       "      <td>399.578138</td>\n",
       "      <td>502162.355945</td>\n",
       "    </tr>\n",
       "    <tr>\n",
       "      <th>...</th>\n",
       "      <td>...</td>\n",
       "      <td>...</td>\n",
       "      <td>...</td>\n",
       "      <td>...</td>\n",
       "      <td>...</td>\n",
       "    </tr>\n",
       "    <tr>\n",
       "      <th>2020-12-27</th>\n",
       "      <td>26442.2</td>\n",
       "      <td>26441.2</td>\n",
       "      <td>2.478542e+08</td>\n",
       "      <td>1309.948187</td>\n",
       "      <td>672519.342625</td>\n",
       "    </tr>\n",
       "    <tr>\n",
       "      <th>2020-12-28</th>\n",
       "      <td>26238.0</td>\n",
       "      <td>26251.4</td>\n",
       "      <td>3.859725e+08</td>\n",
       "      <td>1410.566174</td>\n",
       "      <td>658261.344008</td>\n",
       "    </tr>\n",
       "    <tr>\n",
       "      <th>2020-12-29</th>\n",
       "      <td>27028.9</td>\n",
       "      <td>27029.5</td>\n",
       "      <td>2.120934e+08</td>\n",
       "      <td>1410.132876</td>\n",
       "      <td>666132.685508</td>\n",
       "    </tr>\n",
       "    <tr>\n",
       "      <th>2020-12-30</th>\n",
       "      <td>27376.2</td>\n",
       "      <td>27376.2</td>\n",
       "      <td>2.323766e+08</td>\n",
       "      <td>1420.123385</td>\n",
       "      <td>674831.138111</td>\n",
       "    </tr>\n",
       "    <tr>\n",
       "      <th>2020-12-31</th>\n",
       "      <td>28880.0</td>\n",
       "      <td>28879.9</td>\n",
       "      <td>2.935313e+08</td>\n",
       "      <td>1434.836000</td>\n",
       "      <td>685259.529333</td>\n",
       "    </tr>\n",
       "  </tbody>\n",
       "</table>\n",
       "<p>200 rows × 5 columns</p>\n",
       "</div>"
      ],
      "text/plain": [
       "             Target    Close        Volume       ATR_14            OBV\n",
       "Date                                                                  \n",
       "2020-06-15   9328.4   9330.4  2.508402e+07   425.260601  495820.391088\n",
       "2020-06-16   9425.3   9425.3  9.054159e+07   437.377701  505644.285371\n",
       "2020-06-17   9527.5   9528.5  5.282200e+07   420.993580  511207.665854\n",
       "2020-06-18   9453.1   9453.1  5.074686e+07   414.022610  505815.252863\n",
       "2020-06-19   9381.5   9381.5  3.429032e+07   399.578138  502162.355945\n",
       "...             ...      ...           ...          ...            ...\n",
       "2020-12-27  26442.2  26441.2  2.478542e+08  1309.948187  672519.342625\n",
       "2020-12-28  26238.0  26251.4  3.859725e+08  1410.566174  658261.344008\n",
       "2020-12-29  27028.9  27029.5  2.120934e+08  1410.132876  666132.685508\n",
       "2020-12-30  27376.2  27376.2  2.323766e+08  1420.123385  674831.138111\n",
       "2020-12-31  28880.0  28879.9  2.935313e+08  1434.836000  685259.529333\n",
       "\n",
       "[200 rows x 5 columns]"
      ]
     },
     "execution_count": 3,
     "metadata": {},
     "output_type": "execute_result"
    }
   ],
   "source": [
    "btcusd_df = models.add_TA(btcusd_df)\n",
    "prepped_df = models.prepare_for_model(btcusd_df, '2020-01-01', 200)\n",
    "prepped_df"
   ]
  },
  {
   "cell_type": "code",
   "execution_count": 4,
   "id": "fa79e202",
   "metadata": {},
   "outputs": [
    {
     "name": "stdout",
     "output_type": "stream",
     "text": [
      "This set of models is completely trained already.\n",
      "Set force_overwrite to True if you want to overwrite it.\n"
     ]
    },
    {
     "name": "stderr",
     "output_type": "stream",
     "text": [
      "\r",
      "  0%|          | 0/200 [00:00<?, ?it/s]"
     ]
    }
   ],
   "source": [
    "models.generate_model('btcusd', prepped_df, '2020-01-01', 200, force_overwrite=True)"
   ]
  },
  {
   "cell_type": "code",
   "execution_count": 5,
   "id": "8fd7c58e",
   "metadata": {},
   "outputs": [
    {
     "name": "stderr",
     "output_type": "stream",
     "text": [
      "  0%|          | 0/200 [00:00<?, ?it/s]\n"
     ]
    },
    {
     "data": {
      "text/plain": [
       "LinearRegression()"
      ]
     },
     "execution_count": 5,
     "metadata": {},
     "output_type": "execute_result"
    }
   ],
   "source": [
    "pd.read_pickle('./models/btcusd_2020-01-01-linear-200/btcusd.pkl')"
   ]
  },
  {
   "cell_type": "code",
   "execution_count": 6,
   "id": "32b7c190",
   "metadata": {},
   "outputs": [],
   "source": [
    "lr = models.load_model('btcusd', '2020-01-01', 200)"
   ]
  }
 ],
 "metadata": {
  "interpreter": {
   "hash": "b88d5c2dd1eaeb0f1c7d7ae753465d905796fcabbf269c7c79cda86aad43fe03"
  },
  "kernelspec": {
   "display_name": "Python 3 (ipykernel)",
   "language": "python",
   "name": "python3"
  },
  "language_info": {
   "codemirror_mode": {
    "name": "ipython",
    "version": 3
   },
   "file_extension": ".py",
   "mimetype": "text/x-python",
   "name": "python",
   "nbconvert_exporter": "python",
   "pygments_lexer": "ipython3",
   "version": "3.8.10"
  }
 },
 "nbformat": 4,
 "nbformat_minor": 5
}
